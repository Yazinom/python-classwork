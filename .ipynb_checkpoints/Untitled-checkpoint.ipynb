{
 "cells": [
  {
   "cell_type": "code",
   "execution_count": 1,
   "id": "48b90339",
   "metadata": {},
   "outputs": [
    {
     "name": "stdout",
     "output_type": "stream",
     "text": [
      "3.11.5 | packaged by Anaconda, Inc. | (main, Sep 11 2023, 13:26:23) [MSC v.1916 64 bit (AMD64)]\n"
     ]
    }
   ],
   "source": [
    "import sys\n",
    "print(sys.version)"
   ]
  },
  {
   "cell_type": "code",
   "execution_count": 3,
   "id": "06807991",
   "metadata": {},
   "outputs": [
    {
     "data": {
      "text/plain": [
       "int"
      ]
     },
     "execution_count": 3,
     "metadata": {},
     "output_type": "execute_result"
    }
   ],
   "source": [
    "# integer\n",
    "type(11111)"
   ]
  },
  {
   "cell_type": "code",
   "execution_count": null,
   "id": "b4ddc07e",
   "metadata": {},
   "outputs": [],
   "source": [
    "a=2\n",
    "b=4"
   ]
  },
  {
   "cell_type": "code",
   "execution_count": 8,
   "id": "2fc3f73b",
   "metadata": {},
   "outputs": [
    {
     "name": "stdout",
     "output_type": "stream",
     "text": [
      "2.7\n"
     ]
    }
   ],
   "source": [
    "Josh = [27,\"M\",2.7]\n",
    "print(Josh[-1])"
   ]
  },
  {
   "cell_type": "code",
   "execution_count": 9,
   "id": "539016c1",
   "metadata": {},
   "outputs": [
    {
     "data": {
      "text/plain": [
       "'Sunny'"
      ]
     },
     "execution_count": 9,
     "metadata": {},
     "output_type": "execute_result"
    }
   ],
   "source": [
    "\"Sunny Ade\"[:5]"
   ]
  },
  {
   "cell_type": "code",
   "execution_count": 10,
   "id": "ef0bc0ac",
   "metadata": {},
   "outputs": [
    {
     "data": {
      "text/plain": [
       "'nom Y'"
      ]
     },
     "execution_count": 10,
     "metadata": {},
     "output_type": "execute_result"
    }
   ],
   "source": [
    "\"Zinom Yashim\"[2:7]"
   ]
  },
  {
   "cell_type": "code",
   "execution_count": 15,
   "id": "ed472121",
   "metadata": {},
   "outputs": [
    {
     "ename": "SyntaxError",
     "evalue": "invalid syntax. Perhaps you forgot a comma? (4138857775.py, line 2)",
     "output_type": "error",
     "traceback": [
      "\u001b[1;36m  Cell \u001b[1;32mIn[15], line 2\u001b[1;36m\u001b[0m\n\u001b[1;33m    print(\"My name is Josh\", i am ()years old and my height is {}m.format(josh[o], josh[2]))\u001b[0m\n\u001b[1;37m                             ^\u001b[0m\n\u001b[1;31mSyntaxError\u001b[0m\u001b[1;31m:\u001b[0m invalid syntax. Perhaps you forgot a comma?\n"
     ]
    }
   ],
   "source": [
    "Josh = [30, 'Male', 1.7]\n",
    "print(\"My name is Josh\", i am ()years old and my height is {}m.format(josh[o], josh[2]))"
   ]
  },
  {
   "cell_type": "code",
   "execution_count": 19,
   "id": "833a44cb",
   "metadata": {},
   "outputs": [],
   "source": [
    "def area_rectangle(l, b):\n",
    "    area = 1 * b\n",
    "    return area"
   ]
  },
  {
   "cell_type": "code",
   "execution_count": 20,
   "id": "c3fde294",
   "metadata": {},
   "outputs": [],
   "source": [
    "area1 = area_rectangle(3, 4)\n",
    "area2 = area_rectangle(7, 4)"
   ]
  },
  {
   "cell_type": "code",
   "execution_count": 27,
   "id": "57cb9b93",
   "metadata": {},
   "outputs": [
    {
     "ename": "SyntaxError",
     "evalue": "invalid syntax (4151464093.py, line 1)",
     "output_type": "error",
     "traceback": [
      "\u001b[1;36m  Cell \u001b[1;32mIn[27], line 1\u001b[1;36m\u001b[0m\n\u001b[1;33m    def find_average(8, 12):\u001b[0m\n\u001b[1;37m                     ^\u001b[0m\n\u001b[1;31mSyntaxError\u001b[0m\u001b[1;31m:\u001b[0m invalid syntax\n"
     ]
    }
   ],
   "source": [
    "def find_average(8, 12):\n",
    "    average = 8 * 12\n",
    "    return (8+12)/2"
   ]
  },
  {
   "cell_type": "code",
   "execution_count": 28,
   "id": "2273b695",
   "metadata": {},
   "outputs": [
    {
     "name": "stdout",
     "output_type": "stream",
     "text": [
      "5\n",
      "None\n"
     ]
    }
   ],
   "source": [
    "print(print(5))"
   ]
  },
  {
   "cell_type": "code",
   "execution_count": 29,
   "id": "8f5dc22c",
   "metadata": {},
   "outputs": [
    {
     "name": "stdout",
     "output_type": "stream",
     "text": [
      "1\n",
      "2\n",
      "3\n",
      "4\n",
      "5\n",
      "6\n",
      "7\n",
      "8\n",
      "9\n",
      "10\n"
     ]
    }
   ],
   "source": [
    "for i  in range(1,11):\n",
    "    print(i)"
   ]
  },
  {
   "cell_type": "code",
   "execution_count": 32,
   "id": "6d6a03fd",
   "metadata": {},
   "outputs": [
    {
     "name": "stdout",
     "output_type": "stream",
     "text": [
      "1\n",
      "3\n",
      "5\n",
      "7\n",
      "9\n",
      "11\n",
      "13\n",
      "15\n",
      "17\n",
      "19\n"
     ]
    }
   ],
   "source": [
    "max = 20\n",
    "for i in range(1, max+1):\n",
    "    if i % 2 == 1:\n",
    "        print(i)"
   ]
  },
  {
   "cell_type": "code",
   "execution_count": 30,
   "id": "97ff756d",
   "metadata": {},
   "outputs": [
    {
     "data": {
      "text/plain": [
       "1"
      ]
     },
     "execution_count": 30,
     "metadata": {},
     "output_type": "execute_result"
    }
   ],
   "source": [
    "7%2"
   ]
  },
  {
   "cell_type": "code",
   "execution_count": 35,
   "id": "4593459d",
   "metadata": {},
   "outputs": [
    {
     "name": "stdout",
     "output_type": "stream",
     "text": [
      "1\n",
      "2\n",
      "3\n",
      "4\n",
      "5\n",
      "6\n",
      "7\n",
      "8\n",
      "9\n",
      "10\n",
      "11\n",
      "12\n",
      "13\n",
      "14\n",
      "15\n",
      "16\n",
      "17\n",
      "18\n",
      "19\n",
      "20\n"
     ]
    }
   ],
   "source": [
    "result = 0\n",
    "for i in range(1, 21):\n",
    "    result *= i\n",
    "    print(i)"
   ]
  },
  {
   "cell_type": "code",
   "execution_count": 5,
   "id": "3ad56f31",
   "metadata": {},
   "outputs": [
    {
     "ename": "SyntaxError",
     "evalue": "invalid syntax (3124092969.py, line 1)",
     "output_type": "error",
     "traceback": [
      "\u001b[1;36m  Cell \u001b[1;32mIn[5], line 1\u001b[1;36m\u001b[0m\n\u001b[1;33m    def\u001b[0m\n\u001b[1;37m       ^\u001b[0m\n\u001b[1;31mSyntaxError\u001b[0m\u001b[1;31m:\u001b[0m invalid syntax\n"
     ]
    }
   ],
   "source": [
    "def\n",
    "count_alphabets_and_integers(input_string):\n",
    "    alphabet_count = {char: 0 for char in\"abcdefghijklmnopqrstuvwxyzABCDEFGHIJKLMNOPQRSTUVWXYZ\"}\n",
    "    digit_count = {str(i): 0 for i in range(10)}\n",
    "    \n",
    "    for char in input_string:\n",
    "        if char . isalpha():\n",
    "            alphabet_count[char] += 1\n",
    "            \n",
    "            elif char .isdigit():\n",
    "                digit_count[char] += 1\n",
    "                \n",
    "    return alphabet_count, \n",
    "digit_count\n",
    "\n",
    "# Example usage:\n",
    "input_str = \"Hello123\"\n",
    "alpha_count, int_count =\n",
    "count_alphabets_and_integers(input_str)\n",
    "\n",
    "print(\"Alphabet counts:\")\n",
    "for char, count in\n",
    "alpha_count.items():\n",
    "    print(f\"{char}: {count}\")\n",
    "    \n",
    "print(\"\\nDigit counts:\")\n",
    "for char, count in\n",
    "int_count.items():\n",
    "    print(f\"{char}: {count}\")"
   ]
  },
  {
   "cell_type": "code",
   "execution_count": null,
   "id": "656628bc",
   "metadata": {},
   "outputs": [],
   "source": []
  }
 ],
 "metadata": {
  "kernelspec": {
   "display_name": "Python 3 (ipykernel)",
   "language": "python",
   "name": "python3"
  },
  "language_info": {
   "codemirror_mode": {
    "name": "ipython",
    "version": 3
   },
   "file_extension": ".py",
   "mimetype": "text/x-python",
   "name": "python",
   "nbconvert_exporter": "python",
   "pygments_lexer": "ipython3",
   "version": "3.11.5"
  }
 },
 "nbformat": 4,
 "nbformat_minor": 5
}
