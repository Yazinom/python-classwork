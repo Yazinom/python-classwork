{
 "cells": [
  {
   "cell_type": "code",
   "execution_count": 1,
   "id": "48b90339",
   "metadata": {},
   "outputs": [
    {
     "name": "stdout",
     "output_type": "stream",
     "text": [
      "3.11.5 | packaged by Anaconda, Inc. | (main, Sep 11 2023, 13:26:23) [MSC v.1916 64 bit (AMD64)]\n"
     ]
    }
   ],
   "source": [
    "import sys\n",
    "print(sys.version)"
   ]
  },
  {
   "cell_type": "code",
   "execution_count": 3,
   "id": "06807991",
   "metadata": {},
   "outputs": [
    {
     "data": {
      "text/plain": [
       "int"
      ]
     },
     "execution_count": 3,
     "metadata": {},
     "output_type": "execute_result"
    }
   ],
   "source": [
    "# integer\n",
    "type(11111)"
   ]
  },
  {
   "cell_type": "code",
   "execution_count": null,
   "id": "b4ddc07e",
   "metadata": {},
   "outputs": [],
   "source": [
    "a=2\n",
    "b=4"
   ]
  },
  {
   "cell_type": "code",
   "execution_count": 8,
   "id": "2fc3f73b",
   "metadata": {},
   "outputs": [
    {
     "name": "stdout",
     "output_type": "stream",
     "text": [
      "2.7\n"
     ]
    }
   ],
   "source": [
    "Josh = [27,\"M\",2.7]\n",
    "print(Josh[-1])"
   ]
  },
  {
   "cell_type": "code",
   "execution_count": 9,
   "id": "539016c1",
   "metadata": {},
   "outputs": [
    {
     "data": {
      "text/plain": [
       "'Sunny'"
      ]
     },
     "execution_count": 9,
     "metadata": {},
     "output_type": "execute_result"
    }
   ],
   "source": [
    "\"Sunny Ade\"[:5]"
   ]
  },
  {
   "cell_type": "code",
   "execution_count": 10,
   "id": "ef0bc0ac",
   "metadata": {},
   "outputs": [
    {
     "data": {
      "text/plain": [
       "'nom Y'"
      ]
     },
     "execution_count": 10,
     "metadata": {},
     "output_type": "execute_result"
    }
   ],
   "source": [
    "\"Zinom Yashim\"[2:7]"
   ]
  },
  {
   "cell_type": "code",
   "execution_count": 19,
   "id": "833a44cb",
   "metadata": {},
   "outputs": [],
   "source": [
    "def area_rectangle(l, b):\n",
    "    area = 1 * b\n",
    "    return area"
   ]
  },
  {
   "cell_type": "code",
   "execution_count": 20,
   "id": "c3fde294",
   "metadata": {},
   "outputs": [],
   "source": [
    "area1 = area_rectangle(3, 4)\n",
    "area2 = area_rectangle(7, 4)"
   ]
  },
  {
   "cell_type": "code",
   "execution_count": 27,
   "id": "57cb9b93",
   "metadata": {},
   "outputs": [
    {
     "ename": "SyntaxError",
     "evalue": "invalid syntax (4151464093.py, line 1)",
     "output_type": "error",
     "traceback": [
      "\u001b[1;36m  Cell \u001b[1;32mIn[27], line 1\u001b[1;36m\u001b[0m\n\u001b[1;33m    def find_average(8, 12):\u001b[0m\n\u001b[1;37m                     ^\u001b[0m\n\u001b[1;31mSyntaxError\u001b[0m\u001b[1;31m:\u001b[0m invalid syntax\n"
     ]
    }
   ],
   "source": [
    "def find_average(8, 12):\n",
    "    average = 8 * 12\n",
    "    return (8+12)/2"
   ]
  },
  {
   "cell_type": "code",
   "execution_count": 28,
   "id": "2273b695",
   "metadata": {},
   "outputs": [
    {
     "name": "stdout",
     "output_type": "stream",
     "text": [
      "5\n",
      "None\n"
     ]
    }
   ],
   "source": [
    "print(print(5))"
   ]
  },
  {
   "cell_type": "code",
   "execution_count": 29,
   "id": "8f5dc22c",
   "metadata": {},
   "outputs": [
    {
     "name": "stdout",
     "output_type": "stream",
     "text": [
      "1\n",
      "2\n",
      "3\n",
      "4\n",
      "5\n",
      "6\n",
      "7\n",
      "8\n",
      "9\n",
      "10\n"
     ]
    }
   ],
   "source": [
    "for i  in range(1,11):\n",
    "    print(i)"
   ]
  },
  {
   "cell_type": "code",
   "execution_count": 32,
   "id": "6d6a03fd",
   "metadata": {},
   "outputs": [
    {
     "name": "stdout",
     "output_type": "stream",
     "text": [
      "1\n",
      "3\n",
      "5\n",
      "7\n",
      "9\n",
      "11\n",
      "13\n",
      "15\n",
      "17\n",
      "19\n"
     ]
    }
   ],
   "source": [
    "max = 20\n",
    "for i in range(1, max+1):\n",
    "    if i % 2 == 1:\n",
    "        print(i)"
   ]
  },
  {
   "cell_type": "code",
   "execution_count": 30,
   "id": "97ff756d",
   "metadata": {},
   "outputs": [
    {
     "data": {
      "text/plain": [
       "1"
      ]
     },
     "execution_count": 30,
     "metadata": {},
     "output_type": "execute_result"
    }
   ],
   "source": [
    "7%2"
   ]
  },
  {
   "cell_type": "code",
   "execution_count": 35,
   "id": "4593459d",
   "metadata": {},
   "outputs": [
    {
     "name": "stdout",
     "output_type": "stream",
     "text": [
      "1\n",
      "2\n",
      "3\n",
      "4\n",
      "5\n",
      "6\n",
      "7\n",
      "8\n",
      "9\n",
      "10\n",
      "11\n",
      "12\n",
      "13\n",
      "14\n",
      "15\n",
      "16\n",
      "17\n",
      "18\n",
      "19\n",
      "20\n"
     ]
    }
   ],
   "source": [
    "result = 0\n",
    "for i in range(1, 21):\n",
    "    result *= i\n",
    "    print(i)"
   ]
  },
  {
   "cell_type": "code",
   "execution_count": 5,
   "id": "3ad56f31",
   "metadata": {},
   "outputs": [
    {
     "ename": "SyntaxError",
     "evalue": "invalid syntax (3124092969.py, line 1)",
     "output_type": "error",
     "traceback": [
      "\u001b[1;36m  Cell \u001b[1;32mIn[5], line 1\u001b[1;36m\u001b[0m\n\u001b[1;33m    def\u001b[0m\n\u001b[1;37m       ^\u001b[0m\n\u001b[1;31mSyntaxError\u001b[0m\u001b[1;31m:\u001b[0m invalid syntax\n"
     ]
    }
   ],
   "source": [
    "def\n",
    "count_alphabets_and_integers(input_string):\n",
    "    alphabet_count = {char: 0 for char in\"abcdefghijklmnopqrstuvwxyzABCDEFGHIJKLMNOPQRSTUVWXYZ\"}\n",
    "    digit_count = {str(i): 0 for i in range(10)}\n",
    "    \n",
    "    for char in input_string:\n",
    "        if char . isalpha():\n",
    "            alphabet_count[char] += 1\n",
    "            \n",
    "            elif char .isdigit():\n",
    "                digit_count[char] += 1\n",
    "                \n",
    "    return alphabet_count, \n",
    "digit_count\n",
    "\n",
    "# Example usage:\n",
    "input_str = \"Hello123\"\n",
    "alpha_count, int_count =\n",
    "count_alphabets_and_integers(input_str)\n",
    "\n",
    "print(\"Alphabet counts:\")\n",
    "for char, count in\n",
    "alpha_count.items():\n",
    "    print(f\"{char}: {count}\")\n",
    "    \n",
    "print(\"\\nDigit counts:\")\n",
    "for char, count in\n",
    "int_count.items():\n",
    "    print(f\"{char}: {count}\")"
   ]
  },
  {
   "cell_type": "code",
   "execution_count": null,
   "id": "656628bc",
   "metadata": {},
   "outputs": [],
   "source": [
    "word = input(\"Enter any alphanumeric string: \")\n",
    "\n",
    "digit = 0\n",
    "alphabets = 0\n",
    "\n",
    "for character in word:\n",
    "    if character.isalpha()\n",
    "    alphabets = alphabets = 1\n",
    "    elif character.isdigit():\n",
    "        digit = digiy + 1\n",
    "\n",
    "print(\"Number of alphabets: \", alphabets)\n",
    "print(\"\")"
   ]
  },
  {
   "cell_type": "code",
   "execution_count": null,
   "id": "8e5a9d40",
   "metadata": {},
   "outputs": [],
   "source": [
    "len((1,2,3))\n",
    "\n",
    "\n"
   ]
  },
  {
   "cell_type": "code",
   "execution_count": 11,
   "id": "874a2dc3",
   "metadata": {},
   "outputs": [
    {
     "data": {
      "text/plain": [
       "[('python', 3), ('data', 1)]"
      ]
     },
     "execution_count": 11,
     "metadata": {},
     "output_type": "execute_result"
    }
   ],
   "source": [
    "sample_text = \"we love python for data science. #python. pyThon\"\n",
    "words = [\"python\", \"data\"]\n",
    "\n",
    "counter = []\n",
    "\n",
    "def word_count(word, text):\n",
    "      return text.lower().count(word)\n",
    "    \n",
    "for word in words:\n",
    "    occurence = word_count(word, sample_text)\n",
    "    counter.append(occurence)\n",
    "    \n",
    "list(zip(words, counter))\n"
   ]
  },
  {
   "cell_type": "code",
   "execution_count": 1,
   "id": "033f26d3",
   "metadata": {},
   "outputs": [
    {
     "data": {
      "text/plain": [
       "{'R&B', 'disco', 'hard rock', 'pop', 'rock', 'soul'}"
      ]
     },
     "execution_count": 1,
     "metadata": {},
     "output_type": "execute_result"
    }
   ],
   "source": [
    "set1 = {'pop', 'rock', 'soul', 'hard rock', 'rock', 'R&B', 'rock', 'disco'}\n",
    "set1\n"
   ]
  },
  {
   "cell_type": "code",
   "execution_count": 2,
   "id": "0289ddb4",
   "metadata": {},
   "outputs": [
    {
     "name": "stdout",
     "output_type": "stream",
     "text": [
      "('Michael Jackson', 'Thriller', 1982, '00:42:19', 'Pop, Rock, R&B', 46.0, 65, '30-Nov-82', None, 10.0)\n",
      "['Michael Jackson', 'Thriller', 1982, '00:42:19', 'Pop, Rock, R&B', 46.0, 65, '30-Nov-82', None, 10.0]\n",
      "{65, '00:42:19', 'Pop, Rock, R&B', 10.0, 46.0, None, 'Thriller', 'Michael Jackson', '30-Nov-82', 1982}\n"
     ]
    }
   ],
   "source": [
    "album_list =  [\"Michael Jackson\", \"Thriller\", 1982, \"00:42:19\", \\\n",
    "              \"Pop, Rock, R&B\", 46.0, 65, \"30-Nov-82\", None, 10.0]\n",
    "print(tuple(album_list))\n",
    "print(list(album_list))\n",
    "print(set(album_list))"
   ]
  },
  {
   "cell_type": "code",
   "execution_count": 3,
   "id": "b3c7d221",
   "metadata": {},
   "outputs": [
    {
     "data": {
      "text/plain": [
       "{'R&B',\n",
       " 'disco',\n",
       " 'folk rock',\n",
       " 'hard rock',\n",
       " 'pop',\n",
       " 'progressive rock',\n",
       " 'rock',\n",
       " 'soft rock',\n",
       " 'soul'}"
      ]
     },
     "execution_count": 3,
     "metadata": {},
     "output_type": "execute_result"
    }
   ],
   "source": [
    "music_genres = set([\"pop\", \"pop\", \"rock\", \"folk rock\", \"hard rock\", \"soul\", \\\n",
    "                    \"progressive rock\", \"soft rock\", \"R&B\", \"disco\"])\n",
    "music_genres"
   ]
  },
  {
   "cell_type": "code",
   "execution_count": 5,
   "id": "17b8c5f5",
   "metadata": {},
   "outputs": [],
   "source": [
    "A = set([\"Thriller\", \"Back in Black\", \"AC/DC\"])"
   ]
  },
  {
   "cell_type": "code",
   "execution_count": 6,
   "id": "52b6feb0",
   "metadata": {},
   "outputs": [
    {
     "data": {
      "text/plain": [
       "{'AC/DC', 'Back in Black', 'NSYNC', 'Thriller'}"
      ]
     },
     "execution_count": 6,
     "metadata": {},
     "output_type": "execute_result"
    }
   ],
   "source": [
    "A.add ('NSYNC')\n",
    "A"
   ]
  },
  {
   "cell_type": "code",
   "execution_count": 7,
   "id": "c91328ee",
   "metadata": {},
   "outputs": [
    {
     "data": {
      "text/plain": [
       "{'AC/DC', 'Back in Black', 'NSYNC', 'Thriller'}"
      ]
     },
     "execution_count": 7,
     "metadata": {},
     "output_type": "execute_result"
    }
   ],
   "source": [
    "A.add(\"NSYNC\")\n",
    "A"
   ]
  },
  {
   "cell_type": "code",
   "execution_count": 8,
   "id": "a4e7a3f9",
   "metadata": {},
   "outputs": [],
   "source": [
    "album_set1 = set([\"Thriller\", 'AC/DC', 'Back in Black'])\n",
    "album_set2 = set([ \"AC/DC\", \"Back in Black\", \"The Dark Side of the Moon\"])\n"
   ]
  },
  {
   "cell_type": "code",
   "execution_count": 9,
   "id": "9eb9bd97",
   "metadata": {},
   "outputs": [
    {
     "name": "stdout",
     "output_type": "stream",
     "text": [
      "{'Thriller', 'Back in Black', 'AC/DC'}\n"
     ]
    },
    {
     "data": {
      "text/plain": [
       "(None, {'AC/DC', 'Back in Black', 'The Dark Side of the Moon'})"
      ]
     },
     "execution_count": 9,
     "metadata": {},
     "output_type": "execute_result"
    }
   ],
   "source": [
    "print(album_set1),(album_set2)"
   ]
  },
  {
   "cell_type": "code",
   "execution_count": 10,
   "id": "c34c0d98",
   "metadata": {},
   "outputs": [
    {
     "data": {
      "text/plain": [
       "{'AC/DC', 'Back in Black'}"
      ]
     },
     "execution_count": 10,
     "metadata": {},
     "output_type": "execute_result"
    }
   ],
   "source": [
    "intersection = album_set1 & album_set2\n",
    "intersection"
   ]
  },
  {
   "cell_type": "code",
   "execution_count": 11,
   "id": "67fee55b",
   "metadata": {},
   "outputs": [
    {
     "data": {
      "text/plain": [
       "{'Thriller'}"
      ]
     },
     "execution_count": 11,
     "metadata": {},
     "output_type": "execute_result"
    }
   ],
   "source": [
    "album_set1.difference(album_set2)\n",
    "album_set1.difference(album_set2) "
   ]
  },
  {
   "cell_type": "code",
   "execution_count": 12,
   "id": "41122c8f",
   "metadata": {},
   "outputs": [
    {
     "data": {
      "text/plain": [
       "{'The Dark Side of the Moon'}"
      ]
     },
     "execution_count": 12,
     "metadata": {},
     "output_type": "execute_result"
    }
   ],
   "source": [
    "album_set2.difference(album_set1) "
   ]
  },
  {
   "cell_type": "code",
   "execution_count": 13,
   "id": "c9cda1c0",
   "metadata": {},
   "outputs": [
    {
     "data": {
      "text/plain": [
       "{'AC/DC', 'Back in Black'}"
      ]
     },
     "execution_count": 13,
     "metadata": {},
     "output_type": "execute_result"
    }
   ],
   "source": [
    "album_set1.intersection(album_set2) "
   ]
  },
  {
   "cell_type": "code",
   "execution_count": 14,
   "id": "6c505b5e",
   "metadata": {},
   "outputs": [
    {
     "data": {
      "text/plain": [
       "{'AC/DC', 'Back in Black', 'The Dark Side of the Moon', 'Thriller'}"
      ]
     },
     "execution_count": 14,
     "metadata": {},
     "output_type": "execute_result"
    }
   ],
   "source": [
    "album_set1.union(album_set2)"
   ]
  },
  {
   "cell_type": "code",
   "execution_count": 15,
   "id": "c41484f3",
   "metadata": {},
   "outputs": [
    {
     "data": {
      "text/plain": [
       "False"
      ]
     },
     "execution_count": 15,
     "metadata": {},
     "output_type": "execute_result"
    }
   ],
   "source": [
    "set(album_set1).issuperset(album_set2)"
   ]
  },
  {
   "cell_type": "code",
   "execution_count": 16,
   "id": "21663ff0",
   "metadata": {},
   "outputs": [
    {
     "data": {
      "text/plain": [
       "False"
      ]
     },
     "execution_count": 16,
     "metadata": {},
     "output_type": "execute_result"
    }
   ],
   "source": [
    "set(album_set2).issubset(album_set1)"
   ]
  },
  {
   "cell_type": "code",
   "execution_count": 17,
   "id": "524799fa",
   "metadata": {},
   "outputs": [
    {
     "data": {
      "text/plain": [
       "True"
      ]
     },
     "execution_count": 17,
     "metadata": {},
     "output_type": "execute_result"
    }
   ],
   "source": [
    "set({\"Back in Black\", \"AC/DC\"}).issubset(album_set1)"
   ]
  },
  {
   "cell_type": "code",
   "execution_count": 18,
   "id": "5d4a028e",
   "metadata": {},
   "outputs": [
    {
     "data": {
      "text/plain": [
       "True"
      ]
     },
     "execution_count": 18,
     "metadata": {},
     "output_type": "execute_result"
    }
   ],
   "source": [
    "album_set1.issuperset({\"Back in Black\", \"AC/DC\"}) "
   ]
  },
  {
   "cell_type": "code",
   "execution_count": 19,
   "id": "01210d2e",
   "metadata": {},
   "outputs": [
    {
     "name": "stdout",
     "output_type": "stream",
     "text": [
      "{'electronic music', 'rap', 'house'}\n"
     ]
    }
   ],
   "source": [
    "original_list = ['rap','house','electronic music', 'rap']\n",
    "unique_set = set(original_list)\n",
    "\n",
    "print(unique_set)"
   ]
  },
  {
   "cell_type": "code",
   "execution_count": 20,
   "id": "1575dac3",
   "metadata": {},
   "outputs": [
    {
     "name": "stdout",
     "output_type": "stream",
     "text": [
      "False\n"
     ]
    }
   ],
   "source": [
    "A = [1, 2, 2, 1] \n",
    "B = set([1, 2, 2, 1])\n",
    "\n",
    "# check if the sum of A is equal to the sum of B\n",
    "result = sum(A) == sum(B)\n",
    "\n",
    "print(result)"
   ]
  },
  {
   "cell_type": "code",
   "execution_count": null,
   "id": "31878f8e",
   "metadata": {},
   "outputs": [],
   "source": []
  }
 ],
 "metadata": {
  "kernelspec": {
   "display_name": "Python 3 (ipykernel)",
   "language": "python",
   "name": "python3"
  },
  "language_info": {
   "codemirror_mode": {
    "name": "ipython",
    "version": 3
   },
   "file_extension": ".py",
   "mimetype": "text/x-python",
   "name": "python",
   "nbconvert_exporter": "python",
   "pygments_lexer": "ipython3",
   "version": "3.11.5"
  }
 },
 "nbformat": 4,
 "nbformat_minor": 5
}
